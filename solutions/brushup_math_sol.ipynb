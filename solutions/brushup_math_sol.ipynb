{
 "cells": [
  {
   "cell_type": "markdown",
   "metadata": {},
   "source": [
    "# Mathematics Brush-up Solutions to Suggested Exercises"
   ]
  },
  {
   "cell_type": "markdown",
   "metadata": {},
   "source": [
    "## University of Alicante"
   ]
  },
  {
   "cell_type": "markdown",
   "metadata": {},
   "source": [
    "### Chapter 1"
   ]
  },
  {
   "cell_type": "markdown",
   "metadata": {},
   "source": [
    "Exercise 3\n",
    "\n",
    "Take a rectangular triangle (triangle with a 90 degree angle) formed by a hypotenuse $a$, an opposite side $b$ and an adjacent side side $c$. The angle formed by $a$ and $c$ is $\\alpha$. By the definition of the sine and cosine functions:\n",
    "\n",
    "$$\n",
    "sin(\\alpha) = \\frac{b}{a} \\quad\\mathrm{and}\\quad cos(\\alpha) = \\frac{c}{a}\n",
    "$$\n",
    "\n",
    "Now, let's set $a$ = 1, take the Pythagora's theorem ($a^2 = b^2 + c^2$) and substitute in the definitions of sine (now $b$) and cosine (now $c$):\n",
    "\n",
    "$$\n",
    "1 = sin^2(\\alpha) + cos^2(\\alpha)\n",
    "$$"
   ]
  },
  {
   "cell_type": "markdown",
   "metadata": {},
   "source": [
    "Exercise 4\n",
    "\n",
    "$$\n",
    "(f \\circ g) = x^3 + 2 \\quad\\mathrm{and}\\quad (g \\circ f) = (x + 2)^3 \n",
    "$$\n",
    "\n",
    "Take $x = 1$: $(f \\circ g) = 3 \\neq 9 = (g \\circ f)$"
   ]
  },
  {
   "cell_type": "markdown",
   "metadata": {},
   "source": [
    "Exercise 5\n",
    "\n",
    "$$\n",
    "(f \\circ g) = \\log(x) - 1 \\quad\\mathrm{and}\\quad (g \\circ f) = \\log(x-1)\n",
    "$$\n",
    "\n",
    "$$\n",
    "\\mathcal{D}_{(f \\circ g)} = (0, \\infty] \\quad\\mathrm{and}\\quad \\mathcal{D}_{(g \\circ f)} = (-1, \\infty]\n",
    "$$\n",
    "\n",
    "$$\n",
    "f^{-1}(x) = x + 1 \\quad\\mathrm{and}\\quad g^{-1}(x) = e^x\n",
    "$$"
   ]
  },
  {
   "cell_type": "markdown",
   "metadata": {},
   "source": [
    "Exercise 6\n",
    "\n",
    "1. Price of final good\n",
    "2. Price of intermediate good or factor\n",
    "3. Elasticity (?, probably not as elasticity would be $\\frac{d\\log f(p)}{d\\log p}$) \n",
    "4. Marginal propensity of consumption (in the basic keynesian consumption function)\n",
    "5. Marginal propensity of savings( in the basic keynesian consumption function)"
   ]
  },
  {
   "cell_type": "markdown",
   "metadata": {},
   "source": [
    "Exercise 7 \n",
    "\n",
    "$$\n",
    "f(0) = -5 < 0 \\quad\\mathrm{and}\\quad f(2) = 32-6-5 >0\n",
    "$$\n",
    "So by Bolzano there is at least one root in (0,2)."
   ]
  },
  {
   "cell_type": "markdown",
   "metadata": {},
   "source": [
    "Exercise 9\n",
    "\n",
    "1. Continuous everywhere ($\\mathbb{R}$) except 0 (left limit goes to $-\\infty$ and right limit goes to $\\infty$)\n",
    "2. Continuous everywhere ($\\mathbb{R}$, note that at 0 the left and right limit coincide at 0) \n",
    "3. Continuous everywhere ($\\mathbb{R}$) except 0 (left limit is 0, right limit is 2)"
   ]
  },
  {
   "cell_type": "markdown",
   "metadata": {},
   "source": [
    "### Chapter 2"
   ]
  },
  {
   "cell_type": "markdown",
   "metadata": {},
   "source": [
    "Exercise 4\n",
    "\n",
    "1. $(f \\pm g)'(x) = f'(x) \\pm g'(x)$\n",
    "\n",
    "Proof:\n",
    "\n",
    "$$\n",
    "\\begin{aligned}\n",
    " (f \\pm g)'(x_0) &= \\lim_{h \\rightarrow 0} \\frac{ f(x_0 + h) - f(x_0) \\pm( g(x_0 +h) - g(x_0))}{h} \\\\\n",
    " &= \\lim_{h \\rightarrow 0} \\frac{ f(x_0 + h) - f(x_0)}{h} \\pm \\lim_{h \\rightarrow 0} \\frac{ g(x_0 + h) - g(x_0)}{h} \\\\\n",
    " &= f'(x) \\pm g'(x)\n",
    "\\end{aligned}\n",
    "$$\n",
    "\n",
    "2. $(kf)'(x) = k(f'(x))$\n",
    "\n",
    "Proof:\n",
    "\n",
    "$$\n",
    "\\begin{aligned}\n",
    " (kf)'(x_0) &= \\lim_{h \\rightarrow 0} \\frac{kf'(x_0 + h) - kf'(x_0)}{h} \\\\\n",
    " &= k(\\lim_{h \\rightarrow 0} \\frac{f'(x_0 + h) - f'(x_0)}{h}) = k(f'(x_0))\n",
    "\\end{aligned}\n",
    "$$\n",
    "\n",
    "3. $(f \\circ g)'(x) = f'(x)g(x) + f(x)g'(x)$\n",
    "\n",
    "Proof:\n",
    "\n",
    "$$\n",
    "\\begin{aligned}\n",
    " (f \\circ g)'(x_0) &= \\lim_{h \\rightarrow 0} \\frac{f(x_0 +h)g(x_0 +h) - f(x_0)g(x_0)}{h} \\\\\n",
    " &= \\lim_{h \\rightarrow 0} \\frac{f(x_0 +h)g(x_0 +h) + f(x_0+h)g(x_0) - f(x_0+h)g(x_0)  - f(x_0)g(x_0)}{h} \\\\\n",
    " &= \\lim_{h \\rightarrow 0} \\frac{f(x_0 +h)(g(x_0 +h) - g(x_0)) + g(x_0)(f(x_0+h) -f(x_0))}{h} \\\\\n",
    " &= \\left(\\lim_{h \\rightarrow 0} f(x_0 +h)\\right)\\left(\\lim_{h \\rightarrow 0} \\frac{g(x_0 +h) - g(x_o)}{h}\\right) + \\left(\\lim_{h \\rightarrow 0} g(x_0 +h)\\right)\\left(\\lim_{h \\rightarrow 0} \\frac{f(x_0 +h) - f(x_o)}{h}\\right)\\\\\n",
    " &= f(x_0)g'(x_0) + g(x_0)f'(x_0)\n",
    "\\end{aligned}\n",
    "$$\n",
    "\n",
    "4. $\\left(\\frac{f}{g}\\right)'(x) = \\frac{f'(x)g(x) - g'(x)f(x)}{g(x)^2}$\n",
    "\n",
    "Proof:\n",
    "\n",
    "$$\n",
    "\\begin{aligned}\n",
    " \\left(\\frac{f}{g}\\right)'(x_0) &= \\lim_{h \\rightarrow 0} \\frac{\\frac{f(x_0 +h)}{g(x_0 +h)} - \\frac{f(x_0)}{g(x_0)}}{h} = \\lim_{h \\rightarrow 0} \\frac{\\frac{f(x_0 +h)g(x_0) - f(x_0)g(x_0+ h)}{g(x_0 +h)g(x_0)}}{h}  \\\\\n",
    " &= \\lim_{h \\rightarrow 0} \\frac{1}{h} \\frac{f(x_0 +h)g(x_0) - f(x_0)g(x_0+ h)}{g(x_0 +h)g(x_0)} = \\left(\\lim_{h \\rightarrow 0} \\frac{1}{g(x_0 +h)g(x_0)} \\right)\\left( \\lim_{h \\rightarrow 0} \\frac{f(x_0 +h)g(x_0) - f(x_0)g(x_0+ h)}{h}\\right) \\\\\n",
    " &= \\left(\\lim_{h \\rightarrow 0} \\frac{1}{g(x_0 +h)g(x_0)} \\right) \\left( \\lim_{h \\rightarrow 0} \\frac{f(x_0 +h)g(x_0) + f(x_0)g(x_0) - f(x_0)g(x_0)  - f(x_0)g(x_0+ h)}{h}\\right) \\\\\n",
    " &= \\left(\\lim_{h \\rightarrow 0} \\frac{1}{g(x_0 +h)g(x_0)} \\right) \\left( \\lim_{h \\rightarrow 0} \\frac{g(x_0)(f(x_0+h) - f(x_0))}{h} - \\lim_{h \\rightarrow 0} \\frac{f(x_0)(g(x_0+h) - g(x_0))}{h}  \\right) \\\\\n",
    " &= \\left(\\lim_{h \\rightarrow 0} \\frac{1}{g(x_0 +h)g(x_0)} \\right) \\left( \\left(\\lim_{h\\rightarrow 0} g(x_0)\\right)  \\lim_{h \\rightarrow 0} \\frac{f(x_0+h) - f(x_0)}{h} - \\left(\\lim_{h\\rightarrow 0} f(x_0)\\right)\\lim_{h \\rightarrow 0} \\frac{g(x_0+h) - g(x_0)}{h}  \\right) \\\\\n",
    " &= \\frac{1}{g(x_0)^2}(g(x_0)f'(x_0) - f(x_0)g'(x_0)) = \\frac{g(x_0)f'(x_0) - f(x_0)g'(x_0)}{g(x_0)^2}\n",
    "\\end{aligned}\n",
    "$$\n",
    "\n",
    "\n",
    "\n",
    "5. $((f(x))^n)' = n(f(x))^{(n-1)}f'(x)$\n",
    "\n",
    "This will be a proof by induction and we will make use of property 3 (where $f$ will be our $f(x)^n$ and $g$ will be our $f(x)$) already proven.\n",
    "\n",
    "Proof:\n",
    "\n",
    "Take $n = 2$:\n",
    "\n",
    "$$\n",
    "\\begin{aligned}\n",
    " ((f(x))^2)' &= (f(x)f(x))' = f'(x)f(x) + f(x)f'(x) = 2f(x)f'(x) \\\\\n",
    "\\end{aligned}\n",
    "$$\n",
    "\n",
    "Now take $n+1$:\n",
    "\n",
    "$$\n",
    "\\begin{aligned}\n",
    " ((f(x))^{(n+1)})' &= \\left( (f(x))^n f(x) \\right)' \\\\\n",
    " &= \\left((f(x)\\right)^n)'f(x) + f(x))^n f'(x) \\\\\n",
    " &= \\left(n(f(x))^{(n-1)} f'(x)\\right)f(x) + \\left(f(x)\\right)^n f'(x) \\\\\n",
    " &= n(f(x))^n f'(x) + (f(x))^n f'(x)\\\\\n",
    " &= (n+1)(f(x))^nf'(x)\n",
    "\\end{aligned}\n",
    "$$\n",
    "\n",
    "6. $(x^k)' = kx^{k-1}$\n",
    "\n",
    "This is just a particular case of 5 which we have already proven. Let $f(x) = x$ and $n = k$. Then, from 5:\n",
    "\n",
    "$$\n",
    "\\begin{aligned}\n",
    " ((f(x))^n)' &= n(f(x))^{(n-1)}f'(x) \\\\\n",
    " (x^k)' &= kx^{k-1}\\underbrace{\\lim_{h\\rightarrow 0}\\frac{x + h - x}{h}}_{1} = kx^{k-1} \n",
    "\\end{aligned}\n",
    "$$"
   ]
  },
  {
   "cell_type": "markdown",
   "metadata": {},
   "source": [
    "Exercise 11 \n",
    "\n",
    "a) $\\{x \\in \\mathbb{R}: c+x \\neq 0 \\}$\n",
    "\n",
    "b) $f(0) = a - b/c \\quad\\mathrm{and}\\quad 0 = a - b/(c+x) \\Rightarrow x = b/a -c$\n",
    "\n",
    "c) $\\lim_{x\\rightarrow \\infty}f(x) = a \\quad\\mathrm{and}\\quad \\lim_{x\\rightarrow -\\infty}f(x) = a$\n",
    "\n",
    "e) $df(x)/dx = b/(c+x)^2 \\quad\\mathrm{and}\\quad df(x)^2/d^2x = -2b/(c+x)^3$\n",
    "\n",
    "If $f(x)$ were to be a consumption function, $x$ being disposable incme, we would want $f(x)$ to always be positive so we would impose that $c(1+a) > b$"
   ]
  },
  {
   "cell_type": "markdown",
   "metadata": {},
   "source": [
    "### Chapter 3"
   ]
  },
  {
   "cell_type": "markdown",
   "metadata": {},
   "source": [
    "Exercise 4\n",
    "\n",
    "Define the sequence $a_n = 0.9x10^{-n}$. $a_0 = 0.9, \\ a_1 = 0.09, \\ a_2 = 0.09,...$\n",
    "\n",
    "$$\n",
    "\\begin{aligned}\n",
    "\\lim_{n \\rightarrow \\infty} \\sum_{i=0}^n a_n = 0.999...\n",
    "\\end{aligned}\n",
    "$$\n",
    "\n",
    "Also:\n",
    "\n",
    "$$\n",
    "\\begin{aligned}\n",
    "\\lim_{n \\rightarrow \\infty} \\sum_{i=0}^n a_n &= \\lim_{n \\rightarrow \\infty} \\sum_{i=0}^n 0.9x10^{-n}\\\\\n",
    "&= 0.9 \\lim_{n \\rightarrow \\infty} \\sum_{i=0}^n \\frac{1}{10^n} = 0.9 \\lim_{n \\rightarrow \\infty} \\sum_{i=0}^n \\left(\\frac{1}{10}\\right)^n\\\\\n",
    "&= 0.9 \\frac{1}{1-\\frac{1}{10}} = \\frac{0.9}{0.9} = 1 \n",
    "\\end{aligned}\n",
    "$$\n"
   ]
  },
  {
   "cell_type": "markdown",
   "metadata": {},
   "source": [
    "Exercise 7\n",
    "\n",
    "$$\n",
    "\\lim_{n \\rightarrow \\infty} \\left(\\frac{1}{2}\\right)^{n} = 0 \n",
    "$$\n",
    "\n",
    "This result is straightforward as in the note a series of type $a_n = cr^n$ is proven to be convergent thowards 0 whenever $|r| < 1$"
   ]
  }
 ],
 "metadata": {
  "kernelspec": {
   "display_name": "Python 3",
   "language": "python",
   "name": "python3"
  },
  "language_info": {
   "codemirror_mode": {
    "name": "ipython",
    "version": 3
   },
   "file_extension": ".py",
   "mimetype": "text/x-python",
   "name": "python",
   "nbconvert_exporter": "python",
   "pygments_lexer": "ipython3",
   "version": "3.7.6"
  }
 },
 "nbformat": 4,
 "nbformat_minor": 4
}
